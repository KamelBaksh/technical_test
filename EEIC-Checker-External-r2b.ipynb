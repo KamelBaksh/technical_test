{
 "cells": [
  {
   "cell_type": "markdown",
   "metadata": {
    "application/vnd.databricks.v1+cell": {
     "cellMetadata": {
      "byteLimit": 2048000,
      "rowLimit": 10000
     },
     "inputWidgets": {},
     "nuid": "df14bbce-5bbe-4295-9b8e-a39c910d4f95",
     "showTitle": false,
     "tableResultSettingsMap": {},
     "title": ""
    }
   },
   "source": [
    "#### Energy Efficiency Installation Checker External Scheme Raw to Base Pipeline\n",
    "\n",
    "##### Description: \n",
    "This notebook processes ingested external energy efficiency schemes that are not on the DMS\n",
    "1. reading onboarded files from this location\n",
    "    - `/dbfs/mnt/datalake/Raw/PMDS/OfficialSensitive/External/`\n",
    "2. only the latest submission file is read/processed (historical submissions are ignored)\n",
    "3. cleaning the dataframes to standaradise null\n",
    "4. standardising mandatory scheme column names to internal naming convention\n",
    "<!-- 5. mapping the Installation Measures to EEL and SAP standards. -->\n",
    "6. adding the scheme name (db_type) to each dataframe.\n",
    "<!-- 7. separating valid and invalid records using the uprn/postcode pair join with AddressBase Premium dataset -->\n",
    "<!-- 8. saving the invalid records to a quarantine folder in the raw layer in preparation for Splink address matching\n",
    "    - `/mnt/datalake/Raw/PMDS/OfficialSensitive/external_quarantine/` -->\n",
    "4. valid records processed. stadardised and saved in the Base layer.\n",
    "    - `/mnt/datalake/Base/PMDS/OfficialSensitive/External/valid_measures/`\n",
    "---\n",
    "##### Inputs:\n",
    "1. **Onboarding scheme** (ECO 4, BUS): Each onboarding scheme file that is ingested in the following location\n",
    "    - `/dbfs/mnt/datalake/Raw/PMDS/OfficialSensitive/External/`\n",
    "<!-- 2. **AddressBase Premium** catalog table: \n",
    "    - `hive_metastore.eeic_db.pmcv2_addressbase_premium` -->\n",
    "<!-- 3. **EEL & SAP** lookup file: \n",
    "    - `/dbfs/mnt/datalake/Base/PMDS/NonSensitive/EEL/eel_lookups_v1.csv` -->\n",
    "4. **External reference** files:\n",
    "    - `/dbfs/mnt/datalake/Base/PMDS/NonSensitive/ExternalSchemes/`\n",
    "    - `mandatory_column_mapping.csv` and `onboarded_scheme_column_list.csv`\n",
    "---\n",
    "##### Outputs: \n",
    "**valid measures** (Delta parquet files):\n",
    "    - `/mnt/datalake/Base/PMDS/OfficialSensitive/External/valid_measures/`\n",
    "---\n",
    "\n",
    "##### Notes:\n",
    "- The files are being read from the agreed validation schema from the front end.  If there is a mismatch between the front-end and back-end scheme then the pipeline will fail.\n",
    "---\n"
   ]
  },
  {
   "cell_type": "code",
   "execution_count": 0,
   "metadata": {
    "application/vnd.databricks.v1+cell": {
     "cellMetadata": {
      "byteLimit": 2048000,
      "implicitDf": true,
      "rowLimit": 10000
     },
     "inputWidgets": {},
     "nuid": "4ecce4ca-bb14-44f9-86ff-b7dee58ecd4c",
     "showTitle": false,
     "tableResultSettingsMap": {},
     "title": ""
    }
   },
   "outputs": [
    {
     "output_type": "stream",
     "name": "stdout",
     "output_type": "stream",
     "text": [
      "\u001B[43mNote: you may need to restart the kernel using dbutils.library.restartPython() to use updated packages.\u001B[0m\nRequirement already satisfied: uv in /local_disk0/.ephemeral_nfs/envs/pythonEnv-f999ee4c-8130-40fd-abd5-ebd7dc37f7a9/lib/python3.10/site-packages (0.5.14)\n\u001B[43mNote: you may need to restart the kernel using dbutils.library.restartPython() to use updated packages.\u001B[0m\n\u001B[2mUsing Python 3.10.12 environment at: /local_disk0/.ephemeral_nfs/envs/pythonEnv-f999ee4c-8130-40fd-abd5-ebd7dc37f7a9\u001B[0m\r\n\u001B[2mAudited \u001B[1m1 package\u001B[0m \u001B[2min 38ms\u001B[0m\u001B[0m\r\n\u001B[2mUsing Python 3.10.12 environment at: /local_disk0/.ephemeral_nfs/envs/pythonEnv-f999ee4c-8130-40fd-abd5-ebd7dc37f7a9\u001B[0m\r\n\u001B[2mAudited \u001B[1m1 package\u001B[0m \u001B[2min 12ms\u001B[0m\u001B[0m\r\n\u001B[2mUsing Python 3.10.12 environment at: /local_disk0/.ephemeral_nfs/envs/pythonEnv-f999ee4c-8130-40fd-abd5-ebd7dc37f7a9\u001B[0m\r\n\u001B[2mAudited \u001B[1m1 package\u001B[0m \u001B[2min 140ms\u001B[0m\u001B[0m\r\n"
     ]
    },
    {
     "output_type": "stream",
     "name": "stdout",
     "output_type": "stream",
     "text": [
      "Imports Loaded\n"
     ]
    }
   ],
   "source": [
    "%run ./EEIC-Checker-External-r2b-Parent"
   ]
  },
  {
   "cell_type": "code",
   "execution_count": 0,
   "metadata": {
    "application/vnd.databricks.v1+cell": {
     "cellMetadata": {
      "byteLimit": 2048000,
      "rowLimit": 10000
     },
     "inputWidgets": {},
     "nuid": "1c19ec0c-998d-49a1-a863-c522b14ee70c",
     "showTitle": false,
     "tableResultSettingsMap": {},
     "title": ""
    }
   },
   "outputs": [
    {
     "output_type": "stream",
     "name": "stdout",
     "output_type": "stream",
     "text": [
      "given a scheme name, read the scheme ECO4\nlatest submission: 2024-12-30\nfile location path: /dbfs/mnt/datalake/Raw/PMDS/OfficialSensitive/External/ECO4/2024/202412/20241230\nthe file being processed: eco4_test2_upload_20241230.csv\ncleaning dataframe\nmapping mandatory columns to internal naming\nadding db_type\nprocessing for curated\n"
     ]
    },
    {
     "output_type": "display_data",
     "data": {
      "text/html": [
       "<style scoped>\n",
       "  .table-result-container {\n",
       "    max-height: 300px;\n",
       "    overflow: auto;\n",
       "  }\n",
       "  table, th, td {\n",
       "    border: 1px solid black;\n",
       "    border-collapse: collapse;\n",
       "  }\n",
       "  th, td {\n",
       "    padding: 5px;\n",
       "  }\n",
       "  th {\n",
       "    text-align: left;\n",
       "  }\n",
       "</style><div class='table-result-container'><table class='table-result'><thead style='background-color: white'><tr><th>Overall_Obligation_Period</th><th>subname</th><th>number</th><th>name</th><th>streetname</th><th>townname</th><th>postcode</th><th>uprn</th><th>Measure_Reference_Number</th><th>measure_type</th><th>Measure_Group</th><th>Measure_Group2</th><th>date_of_install</th><th>TrustmarkUniqueMeasureReference</th><th>TrustmarkLodgedCertificateID</th><th>MCSInstallationCertificationNumber</th><th>Pre_Main_Heating_Source_for_the_Property</th><th>Post_Main_Heating_Source_for_the_Property</th><th>db_type</th><th>measure_details</th></tr></thead><tbody><tr><td>ECO3i</td><td>FLAT 19</td><td>15</td><td>Westfield Oaks</td><td>Westfield Avenue</td><td>HAYLING ISLAND</td><td>PO11 9AQ</td><td>1.00062E+11</td><td>SHL7093742</td><td>B_First_time_CH_cavity</td><td>Boiler</td><td>First time Central Heating</td><td>17/06/2022 00:00</td><td>85al27ZO7Nd</td><td>618315</td><td>null</td><td>Electric Storage Heaters</td><td>Gas boiler</td><td>ECO4</td><td>{\"Measure_Group\": \"Boiler\", \"Pre_Main_Heating_Source_for_the_Property\": \"Electric Storage Heaters\", \"Measure_Group2\": \"First time Central Heating\", \"Overall_Obligation_Period\": \"ECO3i\", \"MCSInstallationCertificationNumber\": null, \"Measure_Reference_Number\": \"SHL7093742\", \"TrustmarkLodgedCertificateID\": \"618315\", \"Post_Main_Heating_Source_for_the_Property\": \"Gas boiler\", \"TrustmarkUniqueMeasureReference\": \"85al27ZO7Nd\"}</td></tr><tr><td>ECO3i</td><td>null</td><td>60</td><td>null</td><td>QUEENS ROAD</td><td>PORTSMOUTH</td><td>PO2 7NA</td><td>1775067323</td><td>SHL7093779</td><td>B_First_time_CH_cavity</td><td>Boiler</td><td>First time Central Heating</td><td>29/06/2022 00:00</td><td>86np1EmjmN2</td><td>618813</td><td>null</td><td>Electric Storage Heaters</td><td>Gas boiler</td><td>ECO4</td><td>{\"Measure_Group\": \"Boiler\", \"Pre_Main_Heating_Source_for_the_Property\": \"Electric Storage Heaters\", \"Measure_Group2\": \"First time Central Heating\", \"Overall_Obligation_Period\": \"ECO3i\", \"MCSInstallationCertificationNumber\": null, \"Measure_Reference_Number\": \"SHL7093779\", \"TrustmarkLodgedCertificateID\": \"618813\", \"Post_Main_Heating_Source_for_the_Property\": \"Gas boiler\", \"TrustmarkUniqueMeasureReference\": \"86np1EmjmN2\"}</td></tr><tr><td>ECO3 SA</td><td>null</td><td>null</td><td>GALVESTON</td><td>null</td><td>CARMARTHEN</td><td>SA33 4HL</td><td>2.00002E+11</td><td>EON7986855</td><td>LI_lessequal100</td><td>Loft Insulation</td><td>Loft Insulation Ceiling Level Virgin</td><td>27/08/2021 00:00</td><td>d5nj9AXp6ac</td><td>436400</td><td>null</td><td>Oil boiler</td><td>null</td><td>ECO4</td><td>{\"Measure_Group\": \"Loft Insulation\", \"Pre_Main_Heating_Source_for_the_Property\": \"Oil boiler\", \"Measure_Group2\": \"Loft Insulation Ceiling Level Virgin\", \"Overall_Obligation_Period\": \"ECO3 SA\", \"MCSInstallationCertificationNumber\": null, \"Measure_Reference_Number\": \"EON7986855\", \"TrustmarkLodgedCertificateID\": \"436400\", \"Post_Main_Heating_Source_for_the_Property\": null, \"TrustmarkUniqueMeasureReference\": \"d5nj9AXp6ac\"}</td></tr><tr><td>ECO3 SA</td><td>null</td><td>null</td><td>16G</td><td>ROSEFIELD STREET</td><td>Dundee</td><td>DD1 5PS</td><td>9059049417</td><td>EON7596330</td><td>B_First_time_CH_solid</td><td>Boiler</td><td>First time Central Heating</td><td>23/01/2021 00:00</td><td>33NxmxAeMBc</td><td>238173</td><td>null</td><td>Electric room heaters*</td><td>Gas boiler</td><td>ECO4</td><td>{\"Measure_Group\": \"Boiler\", \"Pre_Main_Heating_Source_for_the_Property\": \"Electric room heaters*\", \"Measure_Group2\": \"First time Central Heating\", \"Overall_Obligation_Period\": \"ECO3 SA\", \"MCSInstallationCertificationNumber\": null, \"Measure_Reference_Number\": \"EON7596330\", \"TrustmarkLodgedCertificateID\": \"238173\", \"Post_Main_Heating_Source_for_the_Property\": \"Gas boiler\", \"TrustmarkUniqueMeasureReference\": \"33NxmxAeMBc\"}</td></tr><tr><td>ECO3 SA</td><td>FLAT 3</td><td>8</td><td>null</td><td>Clifton Road</td><td>Weston-Super-Mare</td><td>BS23 1BL</td><td>24086439</td><td>EON7616239</td><td>ESH_Upgrades_HHR_solid</td><td>Other Heating</td><td>Electric Storage Heater upgrade (single measure)</td><td>20/01/2021 00:00</td><td>d5nb2r259nb</td><td>247770</td><td>null</td><td>Electric Room Heaters</td><td>null</td><td>ECO4</td><td>{\"Measure_Group\": \"Other Heating\", \"Pre_Main_Heating_Source_for_the_Property\": \"Electric Room Heaters\", \"Measure_Group2\": \"Electric Storage Heater upgrade (single measure)\", \"Overall_Obligation_Period\": \"ECO3 SA\", \"MCSInstallationCertificationNumber\": null, \"Measure_Reference_Number\": \"EON7616239\", \"TrustmarkLodgedCertificateID\": \"247770\", \"Post_Main_Heating_Source_for_the_Property\": null, \"TrustmarkUniqueMeasureReference\": \"d5nb2r259nb\"}</td></tr><tr><td>ECO3 SA</td><td>null</td><td>14</td><td>null</td><td>AVONBANK CRESCENT</td><td>HAMILTON</td><td>ML3 7PD</td><td>484072149</td><td>BGT7739903</td><td>CWI_0.033</td><td>Cavity wall insulation</td><td>Standard CWI</td><td>21/02/2022 00:00</td><td>55nYoPjDbB9</td><td>566825</td><td>null</td><td>Gas boiler</td><td>null</td><td>ECO4</td><td>{\"Measure_Group\": \"Cavity wall insulation\", \"Pre_Main_Heating_Source_for_the_Property\": \"Gas boiler\", \"Measure_Group2\": \"Standard CWI\", \"Overall_Obligation_Period\": \"ECO3 SA\", \"MCSInstallationCertificationNumber\": null, \"Measure_Reference_Number\": \"BGT7739903\", \"TrustmarkLodgedCertificateID\": \"566825\", \"Post_Main_Heating_Source_for_the_Property\": null, \"TrustmarkUniqueMeasureReference\": \"55nYoPjDbB9\"}</td></tr><tr><td>ECO4</td><td>null</td><td>null</td><td>MUIRLANDS</td><td>null</td><td>KIRKBY-IN-FURNESS</td><td>LA17 7TT</td><td>0</td><td>EON8843176</td><td>LI_greater100</td><td>Loft Insulation</td><td>Loft Insulation Ceiling Level Top-up</td><td>30/06/2024 00:00</td><td>P190315W8WM</td><td>P190315-1</td><td>null</td><td>null</td><td>null</td><td>ECO4</td><td>{\"Measure_Group\": \"Loft Insulation\", \"Pre_Main_Heating_Source_for_the_Property\": null, \"Measure_Group2\": \"Loft Insulation Ceiling Level Top-up\", \"Overall_Obligation_Period\": \"ECO4\", \"MCSInstallationCertificationNumber\": null, \"Measure_Reference_Number\": \"EON8843176\", \"TrustmarkLodgedCertificateID\": \"P190315-1\", \"Post_Main_Heating_Source_for_the_Property\": null, \"TrustmarkUniqueMeasureReference\": \"P190315W8WM\"}</td></tr><tr><td>ECO3 SA</td><td>null</td><td>9</td><td>null</td><td>WILLIAM TURNER COURT</td><td>DUMFRIES</td><td>DG1 1XP</td><td>137053530</td><td>BGT7732888</td><td>CWI_0.033</td><td>Cavity wall insulation</td><td>Standard CWI</td><td>11/02/2022 00:00</td><td>0bN0LVdMYNa</td><td>562902</td><td>null</td><td>Electric Storage Heaters</td><td>null</td><td>ECO4</td><td>{\"Measure_Group\": \"Cavity wall insulation\", \"Pre_Main_Heating_Source_for_the_Property\": \"Electric Storage Heaters\", \"Measure_Group2\": \"Standard CWI\", \"Overall_Obligation_Period\": \"ECO3 SA\", \"MCSInstallationCertificationNumber\": null, \"Measure_Reference_Number\": \"BGT7732888\", \"TrustmarkLodgedCertificateID\": \"562902\", \"Post_Main_Heating_Source_for_the_Property\": null, \"TrustmarkUniqueMeasureReference\": \"0bN0LVdMYNa\"}</td></tr><tr><td>ECO3 SA</td><td>null</td><td>16</td><td>null</td><td>DELPH HOLLOW WAY</td><td>ST. HELENS</td><td>WA9 5GP</td><td>39083023</td><td>BGT7742545</td><td>CWI_0.033</td><td>Cavity wall insulation</td><td>Standard CWI</td><td>15/02/2022 00:00</td><td>9dB7wZdoJB4</td><td>565765</td><td>null</td><td>Gas boiler</td><td>null</td><td>ECO4</td><td>{\"Measure_Group\": \"Cavity wall insulation\", \"Pre_Main_Heating_Source_for_the_Property\": \"Gas boiler\", \"Measure_Group2\": \"Standard CWI\", \"Overall_Obligation_Period\": \"ECO3 SA\", \"MCSInstallationCertificationNumber\": null, \"Measure_Reference_Number\": \"BGT7742545\", \"TrustmarkLodgedCertificateID\": \"565765\", \"Post_Main_Heating_Source_for_the_Property\": null, \"TrustmarkUniqueMeasureReference\": \"9dB7wZdoJB4\"}</td></tr><tr><td>ECO4</td><td>null</td><td>null</td><td>UPPER INSHULL</td><td>null</td><td>HEREFORD</td><td>HR4 8JN</td><td>10007371910</td><td>EON8808213</td><td>IWI_solid_1.7_0.3</td><td>Solid Wall Insulation</td><td>Internal wall insulation: Solid Walls</td><td>08/05/2024 00:00</td><td>P165825LHL7</td><td>P165825-1</td><td>null</td><td>null</td><td>null</td><td>ECO4</td><td>{\"Measure_Group\": \"Solid Wall Insulation\", \"Pre_Main_Heating_Source_for_the_Property\": null, \"Measure_Group2\": \"Internal wall insulation: Solid Walls\", \"Overall_Obligation_Period\": \"ECO4\", \"MCSInstallationCertificationNumber\": null, \"Measure_Reference_Number\": \"EON8808213\", \"TrustmarkLodgedCertificateID\": \"P165825-1\", \"Post_Main_Heating_Source_for_the_Property\": null, \"TrustmarkUniqueMeasureReference\": \"P165825LHL7\"}</td></tr><tr><td>ECO4</td><td>null</td><td>null</td><td>UPPER RUSKO COTTAGE</td><td>null</td><td>CASTLE DOUGLAS</td><td>DG7 2BP</td><td>137079539</td><td>EON8772411</td><td>IWI_solid_1.7_0.3</td><td>Solid Wall Insulation</td><td>Internal wall insulation: Solid Walls</td><td>08/04/2024 00:00</td><td>P1476703WFD</td><td>P147670-1</td><td>null</td><td>null</td><td>null</td><td>ECO4</td><td>{\"Measure_Group\": \"Solid Wall Insulation\", \"Pre_Main_Heating_Source_for_the_Property\": null, \"Measure_Group2\": \"Internal wall insulation: Solid Walls\", \"Overall_Obligation_Period\": \"ECO4\", \"MCSInstallationCertificationNumber\": null, \"Measure_Reference_Number\": \"EON8772411\", \"TrustmarkLodgedCertificateID\": \"P147670-1\", \"Post_Main_Heating_Source_for_the_Property\": null, \"TrustmarkUniqueMeasureReference\": \"P1476703WFD\"}</td></tr><tr><td>ECO4</td><td>null</td><td>null</td><td>FAULKNERS FOLD</td><td>null</td><td>Ludlow</td><td>SY8 3QU</td><td>10032917072</td><td>SPW00470613</td><td>Solar_PV</td><td>Micro Generation</td><td>Photovoltaics</td><td>22/03/2024 00:00</td><td>P139990C3TZ</td><td>P139990-1</td><td>null</td><td>Air to Water ASHP</td><td>null</td><td>ECO4</td><td>{\"Measure_Group\": \"Micro Generation\", \"Pre_Main_Heating_Source_for_the_Property\": \"Air to Water ASHP\", \"Measure_Group2\": \"Photovoltaics\", \"Overall_Obligation_Period\": \"ECO4\", \"MCSInstallationCertificationNumber\": null, \"Measure_Reference_Number\": \"SPW00470613\", \"TrustmarkLodgedCertificateID\": \"P139990-1\", \"Post_Main_Heating_Source_for_the_Property\": null, \"TrustmarkUniqueMeasureReference\": \"P139990C3TZ\"}</td></tr></tbody></table></div>"
      ]
     },
     "metadata": {
      "application/vnd.databricks.v1+output": {
       "addedWidgets": {},
       "aggData": [],
       "aggError": "",
       "aggOverflow": false,
       "aggSchema": [],
       "aggSeriesLimitReached": false,
       "aggType": "",
       "arguments": {},
       "columnCustomDisplayInfos": {},
       "data": [
        [
         "ECO3i",
         "FLAT 19",
         "15",
         "Westfield Oaks",
         "Westfield Avenue",
         "HAYLING ISLAND",
         "PO11 9AQ",
         "1.00062E+11",
         "SHL7093742",
         "B_First_time_CH_cavity",
         "Boiler",
         "First time Central Heating",
         "17/06/2022 00:00",
         "85al27ZO7Nd",
         "618315",
         null,
         "Electric Storage Heaters",
         "Gas boiler",
         "ECO4",
         "{\"Measure_Group\": \"Boiler\", \"Pre_Main_Heating_Source_for_the_Property\": \"Electric Storage Heaters\", \"Measure_Group2\": \"First time Central Heating\", \"Overall_Obligation_Period\": \"ECO3i\", \"MCSInstallationCertificationNumber\": null, \"Measure_Reference_Number\": \"SHL7093742\", \"TrustmarkLodgedCertificateID\": \"618315\", \"Post_Main_Heating_Source_for_the_Property\": \"Gas boiler\", \"TrustmarkUniqueMeasureReference\": \"85al27ZO7Nd\"}"
        ],
        [
         "ECO3i",
         null,
         "60",
         null,
         "QUEENS ROAD",
         "PORTSMOUTH",
         "PO2 7NA",
         "1775067323",
         "SHL7093779",
         "B_First_time_CH_cavity",
         "Boiler",
         "First time Central Heating",
         "29/06/2022 00:00",
         "86np1EmjmN2",
         "618813",
         null,
         "Electric Storage Heaters",
         "Gas boiler",
         "ECO4",
         "{\"Measure_Group\": \"Boiler\", \"Pre_Main_Heating_Source_for_the_Property\": \"Electric Storage Heaters\", \"Measure_Group2\": \"First time Central Heating\", \"Overall_Obligation_Period\": \"ECO3i\", \"MCSInstallationCertificationNumber\": null, \"Measure_Reference_Number\": \"SHL7093779\", \"TrustmarkLodgedCertificateID\": \"618813\", \"Post_Main_Heating_Source_for_the_Property\": \"Gas boiler\", \"TrustmarkUniqueMeasureReference\": \"86np1EmjmN2\"}"
        ],
        [
         "ECO3 SA",
         null,
         null,
         "GALVESTON",
         null,
         "CARMARTHEN",
         "SA33 4HL",
         "2.00002E+11",
         "EON7986855",
         "LI_lessequal100",
         "Loft Insulation",
         "Loft Insulation Ceiling Level Virgin",
         "27/08/2021 00:00",
         "d5nj9AXp6ac",
         "436400",
         null,
         "Oil boiler",
         null,
         "ECO4",
         "{\"Measure_Group\": \"Loft Insulation\", \"Pre_Main_Heating_Source_for_the_Property\": \"Oil boiler\", \"Measure_Group2\": \"Loft Insulation Ceiling Level Virgin\", \"Overall_Obligation_Period\": \"ECO3 SA\", \"MCSInstallationCertificationNumber\": null, \"Measure_Reference_Number\": \"EON7986855\", \"TrustmarkLodgedCertificateID\": \"436400\", \"Post_Main_Heating_Source_for_the_Property\": null, \"TrustmarkUniqueMeasureReference\": \"d5nj9AXp6ac\"}"
        ],
        [
         "ECO3 SA",
         null,
         null,
         "16G",
         "ROSEFIELD STREET",
         "Dundee",
         "DD1 5PS",
         "9059049417",
         "EON7596330",
         "B_First_time_CH_solid",
         "Boiler",
         "First time Central Heating",
         "23/01/2021 00:00",
         "33NxmxAeMBc",
         "238173",
         null,
         "Electric room heaters*",
         "Gas boiler",
         "ECO4",
         "{\"Measure_Group\": \"Boiler\", \"Pre_Main_Heating_Source_for_the_Property\": \"Electric room heaters*\", \"Measure_Group2\": \"First time Central Heating\", \"Overall_Obligation_Period\": \"ECO3 SA\", \"MCSInstallationCertificationNumber\": null, \"Measure_Reference_Number\": \"EON7596330\", \"TrustmarkLodgedCertificateID\": \"238173\", \"Post_Main_Heating_Source_for_the_Property\": \"Gas boiler\", \"TrustmarkUniqueMeasureReference\": \"33NxmxAeMBc\"}"
        ],
        [
         "ECO3 SA",
         "FLAT 3",
         "8",
         null,
         "Clifton Road",
         "Weston-Super-Mare",
         "BS23 1BL",
         "24086439",
         "EON7616239",
         "ESH_Upgrades_HHR_solid",
         "Other Heating",
         "Electric Storage Heater upgrade (single measure)",
         "20/01/2021 00:00",
         "d5nb2r259nb",
         "247770",
         null,
         "Electric Room Heaters",
         null,
         "ECO4",
         "{\"Measure_Group\": \"Other Heating\", \"Pre_Main_Heating_Source_for_the_Property\": \"Electric Room Heaters\", \"Measure_Group2\": \"Electric Storage Heater upgrade (single measure)\", \"Overall_Obligation_Period\": \"ECO3 SA\", \"MCSInstallationCertificationNumber\": null, \"Measure_Reference_Number\": \"EON7616239\", \"TrustmarkLodgedCertificateID\": \"247770\", \"Post_Main_Heating_Source_for_the_Property\": null, \"TrustmarkUniqueMeasureReference\": \"d5nb2r259nb\"}"
        ],
        [
         "ECO3 SA",
         null,
         "14",
         null,
         "AVONBANK CRESCENT",
         "HAMILTON",
         "ML3 7PD",
         "484072149",
         "BGT7739903",
         "CWI_0.033",
         "Cavity wall insulation",
         "Standard CWI",
         "21/02/2022 00:00",
         "55nYoPjDbB9",
         "566825",
         null,
         "Gas boiler",
         null,
         "ECO4",
         "{\"Measure_Group\": \"Cavity wall insulation\", \"Pre_Main_Heating_Source_for_the_Property\": \"Gas boiler\", \"Measure_Group2\": \"Standard CWI\", \"Overall_Obligation_Period\": \"ECO3 SA\", \"MCSInstallationCertificationNumber\": null, \"Measure_Reference_Number\": \"BGT7739903\", \"TrustmarkLodgedCertificateID\": \"566825\", \"Post_Main_Heating_Source_for_the_Property\": null, \"TrustmarkUniqueMeasureReference\": \"55nYoPjDbB9\"}"
        ],
        [
         "ECO4",
         null,
         null,
         "MUIRLANDS",
         null,
         "KIRKBY-IN-FURNESS",
         "LA17 7TT",
         "0",
         "EON8843176",
         "LI_greater100",
         "Loft Insulation",
         "Loft Insulation Ceiling Level Top-up",
         "30/06/2024 00:00",
         "P190315W8WM",
         "P190315-1",
         null,
         null,
         null,
         "ECO4",
         "{\"Measure_Group\": \"Loft Insulation\", \"Pre_Main_Heating_Source_for_the_Property\": null, \"Measure_Group2\": \"Loft Insulation Ceiling Level Top-up\", \"Overall_Obligation_Period\": \"ECO4\", \"MCSInstallationCertificationNumber\": null, \"Measure_Reference_Number\": \"EON8843176\", \"TrustmarkLodgedCertificateID\": \"P190315-1\", \"Post_Main_Heating_Source_for_the_Property\": null, \"TrustmarkUniqueMeasureReference\": \"P190315W8WM\"}"
        ],
        [
         "ECO3 SA",
         null,
         "9",
         null,
         "WILLIAM TURNER COURT",
         "DUMFRIES",
         "DG1 1XP",
         "137053530",
         "BGT7732888",
         "CWI_0.033",
         "Cavity wall insulation",
         "Standard CWI",
         "11/02/2022 00:00",
         "0bN0LVdMYNa",
         "562902",
         null,
         "Electric Storage Heaters",
         null,
         "ECO4",
         "{\"Measure_Group\": \"Cavity wall insulation\", \"Pre_Main_Heating_Source_for_the_Property\": \"Electric Storage Heaters\", \"Measure_Group2\": \"Standard CWI\", \"Overall_Obligation_Period\": \"ECO3 SA\", \"MCSInstallationCertificationNumber\": null, \"Measure_Reference_Number\": \"BGT7732888\", \"TrustmarkLodgedCertificateID\": \"562902\", \"Post_Main_Heating_Source_for_the_Property\": null, \"TrustmarkUniqueMeasureReference\": \"0bN0LVdMYNa\"}"
        ],
        [
         "ECO3 SA",
         null,
         "16",
         null,
         "DELPH HOLLOW WAY",
         "ST. HELENS",
         "WA9 5GP",
         "39083023",
         "BGT7742545",
         "CWI_0.033",
         "Cavity wall insulation",
         "Standard CWI",
         "15/02/2022 00:00",
         "9dB7wZdoJB4",
         "565765",
         null,
         "Gas boiler",
         null,
         "ECO4",
         "{\"Measure_Group\": \"Cavity wall insulation\", \"Pre_Main_Heating_Source_for_the_Property\": \"Gas boiler\", \"Measure_Group2\": \"Standard CWI\", \"Overall_Obligation_Period\": \"ECO3 SA\", \"MCSInstallationCertificationNumber\": null, \"Measure_Reference_Number\": \"BGT7742545\", \"TrustmarkLodgedCertificateID\": \"565765\", \"Post_Main_Heating_Source_for_the_Property\": null, \"TrustmarkUniqueMeasureReference\": \"9dB7wZdoJB4\"}"
        ],
        [
         "ECO4",
         null,
         null,
         "UPPER INSHULL",
         null,
         "HEREFORD",
         "HR4 8JN",
         "10007371910",
         "EON8808213",
         "IWI_solid_1.7_0.3",
         "Solid Wall Insulation",
         "Internal wall insulation: Solid Walls",
         "08/05/2024 00:00",
         "P165825LHL7",
         "P165825-1",
         null,
         null,
         null,
         "ECO4",
         "{\"Measure_Group\": \"Solid Wall Insulation\", \"Pre_Main_Heating_Source_for_the_Property\": null, \"Measure_Group2\": \"Internal wall insulation: Solid Walls\", \"Overall_Obligation_Period\": \"ECO4\", \"MCSInstallationCertificationNumber\": null, \"Measure_Reference_Number\": \"EON8808213\", \"TrustmarkLodgedCertificateID\": \"P165825-1\", \"Post_Main_Heating_Source_for_the_Property\": null, \"TrustmarkUniqueMeasureReference\": \"P165825LHL7\"}"
        ],
        [
         "ECO4",
         null,
         null,
         "UPPER RUSKO COTTAGE",
         null,
         "CASTLE DOUGLAS",
         "DG7 2BP",
         "137079539",
         "EON8772411",
         "IWI_solid_1.7_0.3",
         "Solid Wall Insulation",
         "Internal wall insulation: Solid Walls",
         "08/04/2024 00:00",
         "P1476703WFD",
         "P147670-1",
         null,
         null,
         null,
         "ECO4",
         "{\"Measure_Group\": \"Solid Wall Insulation\", \"Pre_Main_Heating_Source_for_the_Property\": null, \"Measure_Group2\": \"Internal wall insulation: Solid Walls\", \"Overall_Obligation_Period\": \"ECO4\", \"MCSInstallationCertificationNumber\": null, \"Measure_Reference_Number\": \"EON8772411\", \"TrustmarkLodgedCertificateID\": \"P147670-1\", \"Post_Main_Heating_Source_for_the_Property\": null, \"TrustmarkUniqueMeasureReference\": \"P1476703WFD\"}"
        ],
        [
         "ECO4",
         null,
         null,
         "FAULKNERS FOLD",
         null,
         "Ludlow",
         "SY8 3QU",
         "10032917072",
         "SPW00470613",
         "Solar_PV",
         "Micro Generation",
         "Photovoltaics",
         "22/03/2024 00:00",
         "P139990C3TZ",
         "P139990-1",
         null,
         "Air to Water ASHP",
         null,
         "ECO4",
         "{\"Measure_Group\": \"Micro Generation\", \"Pre_Main_Heating_Source_for_the_Property\": \"Air to Water ASHP\", \"Measure_Group2\": \"Photovoltaics\", \"Overall_Obligation_Period\": \"ECO4\", \"MCSInstallationCertificationNumber\": null, \"Measure_Reference_Number\": \"SPW00470613\", \"TrustmarkLodgedCertificateID\": \"P139990-1\", \"Post_Main_Heating_Source_for_the_Property\": null, \"TrustmarkUniqueMeasureReference\": \"P139990C3TZ\"}"
        ]
       ],
       "datasetInfos": [],
       "dbfsResultPath": null,
       "isJsonSchema": true,
       "metadata": {},
       "overflow": false,
       "plotOptions": {
        "customPlotOptions": {},
        "displayType": "table",
        "pivotAggregation": null,
        "pivotColumns": null,
        "xColumns": null,
        "yColumns": null
       },
       "removedWidgets": [],
       "schema": [
        {
         "metadata": "{}",
         "name": "Overall_Obligation_Period",
         "type": "\"string\""
        },
        {
         "metadata": "{}",
         "name": "subname",
         "type": "\"string\""
        },
        {
         "metadata": "{}",
         "name": "number",
         "type": "\"string\""
        },
        {
         "metadata": "{}",
         "name": "name",
         "type": "\"string\""
        },
        {
         "metadata": "{}",
         "name": "streetname",
         "type": "\"string\""
        },
        {
         "metadata": "{}",
         "name": "townname",
         "type": "\"string\""
        },
        {
         "metadata": "{}",
         "name": "postcode",
         "type": "\"string\""
        },
        {
         "metadata": "{}",
         "name": "uprn",
         "type": "\"string\""
        },
        {
         "metadata": "{}",
         "name": "Measure_Reference_Number",
         "type": "\"string\""
        },
        {
         "metadata": "{}",
         "name": "measure_type",
         "type": "\"string\""
        },
        {
         "metadata": "{}",
         "name": "Measure_Group",
         "type": "\"string\""
        },
        {
         "metadata": "{}",
         "name": "Measure_Group2",
         "type": "\"string\""
        },
        {
         "metadata": "{}",
         "name": "date_of_install",
         "type": "\"string\""
        },
        {
         "metadata": "{}",
         "name": "TrustmarkUniqueMeasureReference",
         "type": "\"string\""
        },
        {
         "metadata": "{}",
         "name": "TrustmarkLodgedCertificateID",
         "type": "\"string\""
        },
        {
         "metadata": "{}",
         "name": "MCSInstallationCertificationNumber",
         "type": "\"string\""
        },
        {
         "metadata": "{}",
         "name": "Pre_Main_Heating_Source_for_the_Property",
         "type": "\"string\""
        },
        {
         "metadata": "{}",
         "name": "Post_Main_Heating_Source_for_the_Property",
         "type": "\"string\""
        },
        {
         "metadata": "{}",
         "name": "db_type",
         "type": "\"string\""
        },
        {
         "metadata": "{}",
         "name": "measure_details",
         "type": "\"string\""
        }
       ],
       "type": "table"
      }
     },
     "output_type": "display_data"
    }
   ],
   "source": [
    "generic_pipeline(defined_schema_path=\"/dbfs/mnt/datalake/Base/PMDS/NonSensitive/ExternalSchemes/\")"
   ]
  }
 ],
 "metadata": {
  "application/vnd.databricks.v1+notebook": {
   "computePreferences": null,
   "dashboards": [],
   "environmentMetadata": null,
   "language": "python",
   "notebookMetadata": {
    "mostRecentlyExecutedCommandWithImplicitDF": {
     "commandId": -1,
     "dataframes": [
      "_sqldf"
     ]
    },
    "pythonIndentUnit": 4
   },
   "notebookName": "(Clone) EEIC-Checker-External-r2b",
   "widgets": {}
  },
  "language_info": {
   "name": "python"
  }
 },
 "nbformat": 4,
 "nbformat_minor": 0
}
